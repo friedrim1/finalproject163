{
 "metadata": {
  "language_info": {
   "codemirror_mode": {
    "name": "ipython",
    "version": 3
   },
   "file_extension": ".py",
   "mimetype": "text/x-python",
   "name": "python",
   "nbconvert_exporter": "python",
   "pygments_lexer": "ipython3",
   "version": "3.7.10-final"
  },
  "orig_nbformat": 2,
  "kernelspec": {
   "name": "python3",
   "display_name": "Python 3.7.10 64-bit ('myenv': conda)",
   "metadata": {
    "interpreter": {
     "hash": "e9d06e45a77d36598923dcc833ef7288b299c90ded69fe6575ce6cd5e50cad86"
    }
   }
  }
 },
 "nbformat": 4,
 "nbformat_minor": 2,
 "cells": [
  {
   "cell_type": "code",
   "execution_count": 5,
   "metadata": {},
   "outputs": [
    {
     "output_type": "execute_result",
     "data": {
      "text/html": "\n<div id=\"altair-viz-5f30d854c84a410cbf755f469ebfe798\"></div>\n<script type=\"text/javascript\">\n  (function(spec, embedOpt){\n    let outputDiv = document.currentScript.previousElementSibling;\n    if (outputDiv.id !== \"altair-viz-5f30d854c84a410cbf755f469ebfe798\") {\n      outputDiv = document.getElementById(\"altair-viz-5f30d854c84a410cbf755f469ebfe798\");\n    }\n    const paths = {\n      \"vega\": \"https://cdn.jsdelivr.net/npm//vega@5?noext\",\n      \"vega-lib\": \"https://cdn.jsdelivr.net/npm//vega-lib?noext\",\n      \"vega-lite\": \"https://cdn.jsdelivr.net/npm//vega-lite@4.8.1?noext\",\n      \"vega-embed\": \"https://cdn.jsdelivr.net/npm//vega-embed@6?noext\",\n    };\n\n    function loadScript(lib) {\n      return new Promise(function(resolve, reject) {\n        var s = document.createElement('script');\n        s.src = paths[lib];\n        s.async = true;\n        s.onload = () => resolve(paths[lib]);\n        s.onerror = () => reject(`Error loading script: ${paths[lib]}`);\n        document.getElementsByTagName(\"head\")[0].appendChild(s);\n      });\n    }\n\n    function showError(err) {\n      outputDiv.innerHTML = `<div class=\"error\" style=\"color:red;\">${err}</div>`;\n      throw err;\n    }\n\n    function displayChart(vegaEmbed) {\n      vegaEmbed(outputDiv, spec, embedOpt)\n        .catch(err => showError(`Javascript Error: ${err.message}<br>This usually means there's a typo in your chart specification. See the javascript console for the full traceback.`));\n    }\n\n    if(typeof define === \"function\" && define.amd) {\n      requirejs.config({paths});\n      require([\"vega-embed\"], displayChart, err => showError(`Error loading script: ${err.message}`));\n    } else if (typeof vegaEmbed === \"function\") {\n      displayChart(vegaEmbed);\n    } else {\n      loadScript(\"vega\")\n        .then(() => loadScript(\"vega-lite\"))\n        .then(() => loadScript(\"vega-embed\"))\n        .catch(showError)\n        .then(() => displayChart(vegaEmbed));\n    }\n  })({\"config\": {\"view\": {\"continuousWidth\": 400, \"continuousHeight\": 300}}, \"data\": {\"name\": \"data-05f0fa9b7500ed8061e750d7f0681192\"}, \"mark\": \"line\", \"encoding\": {\"x\": {\"type\": \"temporal\", \"field\": \"date\"}, \"y\": {\"type\": \"quantitative\", \"field\": \"total_vaccinations\"}}, \"$schema\": \"https://vega.github.io/schema/vega-lite/v4.8.1.json\", \"datasets\": {\"data-05f0fa9b7500ed8061e750d7f0681192\": [{\"iso_code\": \"ALB\", \"continent\": \"Europe\", \"location\": \"Albania\", \"date\": \"2021-01-12\", \"total_cases\": 64627.0, \"total_vaccinations\": 128.0, \"people_vaccinated\": 128.0, \"people_fully_vaccinated\": 0.0, \"new_vaccinations\": 0.0, \"population\": 2877800.0}, {\"iso_code\": \"ALB\", \"continent\": \"Europe\", \"location\": \"Albania\", \"date\": \"2021-01-13\", \"total_cases\": 65334.0, \"total_vaccinations\": 188.0, \"people_vaccinated\": 188.0, \"people_fully_vaccinated\": 0.0, \"new_vaccinations\": 60.0, \"population\": 2877800.0}, {\"iso_code\": \"ALB\", \"continent\": \"Europe\", \"location\": \"Albania\", \"date\": \"2021-01-14\", \"total_cases\": 65994.0, \"total_vaccinations\": 266.0, \"people_vaccinated\": 266.0, \"people_fully_vaccinated\": 0.0, \"new_vaccinations\": 78.0, \"population\": 2877800.0}, {\"iso_code\": \"ALB\", \"continent\": \"Europe\", \"location\": \"Albania\", \"date\": \"2021-01-15\", \"total_cases\": 66635.0, \"total_vaccinations\": 308.0, \"people_vaccinated\": 308.0, \"people_fully_vaccinated\": 0.0, \"new_vaccinations\": 42.0, \"population\": 2877800.0}, {\"iso_code\": \"ALB\", \"continent\": \"Europe\", \"location\": \"Albania\", \"date\": \"2021-01-16\", \"total_cases\": 67216.0, \"total_vaccinations\": 369.0, \"people_vaccinated\": 369.0, \"people_fully_vaccinated\": 0.0, \"new_vaccinations\": 61.0, \"population\": 2877800.0}, {\"iso_code\": \"ALB\", \"continent\": \"Europe\", \"location\": \"Albania\", \"date\": \"2021-01-17\", \"total_cases\": 67690.0, \"total_vaccinations\": 405.0, \"people_vaccinated\": 405.0, \"people_fully_vaccinated\": 0.0, \"new_vaccinations\": 36.0, \"population\": 2877800.0}, {\"iso_code\": \"ALB\", \"continent\": \"Europe\", \"location\": \"Albania\", \"date\": \"2021-01-18\", \"total_cases\": 67982.0, \"total_vaccinations\": 447.0, \"people_vaccinated\": 447.0, \"people_fully_vaccinated\": 0.0, \"new_vaccinations\": 42.0, \"population\": 2877800.0}, {\"iso_code\": \"ALB\", \"continent\": \"Europe\", \"location\": \"Albania\", \"date\": \"2021-01-19\", \"total_cases\": 68568.0, \"total_vaccinations\": 483.0, \"people_vaccinated\": 483.0, \"people_fully_vaccinated\": 0.0, \"new_vaccinations\": 36.0, \"population\": 2877800.0}, {\"iso_code\": \"ALB\", \"continent\": \"Europe\", \"location\": \"Albania\", \"date\": \"2021-01-20\", \"total_cases\": 69238.0, \"total_vaccinations\": 519.0, \"people_vaccinated\": 519.0, \"people_fully_vaccinated\": 0.0, \"new_vaccinations\": 36.0, \"population\": 2877800.0}, {\"iso_code\": \"ALB\", \"continent\": \"Europe\", \"location\": \"Albania\", \"date\": \"2021-01-21\", \"total_cases\": 69916.0, \"total_vaccinations\": 549.0, \"people_vaccinated\": 549.0, \"people_fully_vaccinated\": 0.0, \"new_vaccinations\": 30.0, \"population\": 2877800.0}, {\"iso_code\": \"ALB\", \"continent\": \"Europe\", \"location\": \"Albania\", \"date\": \"2021-02-02\", \"total_cases\": 79934.0, \"total_vaccinations\": 550.0, \"people_vaccinated\": 549.0, \"people_fully_vaccinated\": 1.0, \"new_vaccinations\": 0.0, \"population\": 2877800.0}, {\"iso_code\": \"ALB\", \"continent\": \"Europe\", \"location\": \"Albania\", \"date\": \"2021-02-09\", \"total_cases\": 87528.0, \"total_vaccinations\": 1127.0, \"people_vaccinated\": 689.0, \"people_fully_vaccinated\": 438.0, \"new_vaccinations\": 0.0, \"population\": 2877800.0}, {\"iso_code\": \"ALB\", \"continent\": \"Europe\", \"location\": \"Albania\", \"date\": \"2021-02-17\", \"total_cases\": 95726.0, \"total_vaccinations\": 1701.0, \"people_vaccinated\": 1090.0, \"people_fully_vaccinated\": 611.0, \"new_vaccinations\": 0.0, \"population\": 2877800.0}, {\"iso_code\": \"ALB\", \"continent\": \"Europe\", \"location\": \"Albania\", \"date\": \"2021-02-18\", \"total_cases\": 96838.0, \"total_vaccinations\": 3049.0, \"people_vaccinated\": 2438.0, \"people_fully_vaccinated\": 611.0, \"new_vaccinations\": 1348.0, \"population\": 2877800.0}, {\"iso_code\": \"ALB\", \"continent\": \"Europe\", \"location\": \"Albania\", \"date\": \"2021-02-19\", \"total_cases\": 97909.0, \"total_vaccinations\": 4177.0, \"people_vaccinated\": 0.0, \"people_fully_vaccinated\": 0.0, \"new_vaccinations\": 1128.0, \"population\": 2877800.0}, {\"iso_code\": \"ALB\", \"continent\": \"Europe\", \"location\": \"Albania\", \"date\": \"2021-02-22\", \"total_cases\": 101285.0, \"total_vaccinations\": 6728.0, \"people_vaccinated\": 6073.0, \"people_fully_vaccinated\": 655.0, \"new_vaccinations\": 0.0, \"population\": 2877800.0}, {\"iso_code\": \"ALB\", \"continent\": \"Europe\", \"location\": \"Albania\", \"date\": \"2021-02-25\", \"total_cases\": 104313.0, \"total_vaccinations\": 10135.0, \"people_vaccinated\": 0.0, \"people_fully_vaccinated\": 0.0, \"new_vaccinations\": 0.0, \"population\": 2877800.0}, {\"iso_code\": \"ALB\", \"continent\": \"Europe\", \"location\": \"Albania\", \"date\": \"2021-03-01\", \"total_cases\": 107931.0, \"total_vaccinations\": 14295.0, \"people_vaccinated\": 0.0, \"people_fully_vaccinated\": 0.0, \"new_vaccinations\": 0.0, \"population\": 2877800.0}, {\"iso_code\": \"ALB\", \"continent\": \"Europe\", \"location\": \"Albania\", \"date\": \"2021-03-03\", \"total_cases\": 109674.0, \"total_vaccinations\": 15793.0, \"people_vaccinated\": 0.0, \"people_fully_vaccinated\": 0.0, \"new_vaccinations\": 0.0, \"population\": 2877800.0}]}}, {\"mode\": \"vega-lite\"});\n</script>",
      "text/plain": [
       "alt.Chart(...)"
      ]
     },
     "metadata": {},
     "execution_count": 5
    }
   ],
   "source": [
    "import pandas as pd\n",
    "import altair as alt\n",
    "\n",
    "df = pd.read_csv('https://covid.ourworldindata.org/data/owid-covid-data.csv?v=2021-02-17')\n",
    "df = df.fillna(0)\n",
    "\n",
    "filtered_df = df[['iso_code',\n",
    "                  'continent',\n",
    "                  'location',\n",
    "                  'date',\n",
    "                  'total_cases',\n",
    "                  'total_vaccinations',\n",
    "                  'people_vaccinated',\n",
    "                  'people_fully_vaccinated',\n",
    "                  'new_vaccinations',\n",
    "                  'population']]\n",
    "\n",
    "df_remove_0_days = filtered_df[filtered_df['total_vaccinations'] != 0]\n",
    "\n",
    "df_alb = df_remove_0_days[df_remove_0_days['iso_code'] == 'ALB']\n",
    "\n",
    "alt.Chart(df_alb).mark_point().mark_line().encode(\n",
    "    x = 'date:T',\n",
    "    y = 'total_vaccinations'\n",
    ")"
   ]
  },
  {
   "cell_type": "code",
   "execution_count": 12,
   "metadata": {},
   "outputs": [],
   "source": [
    "\n",
    "\n",
    "country_code_list = ['Usa', 'alg', 'uk', .....]\n",
    "empty_df\n",
    "for country in country_code_list:\n",
    "    country_df = df[df['country_code'] = country]\n",
    "    row = gives me the most recent date\n",
    "    row.append(empty_df)\n"
   ]
  },
  {
   "cell_type": "code",
   "execution_count": 14,
   "metadata": {},
   "outputs": [
    {
     "output_type": "stream",
     "name": "stdout",
     "text": [
      "127\n"
     ]
    }
   ],
   "source": [
    "# Q1 METHOD\n",
    "import pandas as pd\n",
    "import altair as alt\n",
    "\n",
    "df = pd.read_csv('https://covid.ourworldindata.org/data/owid-covid-data.csv?v=2021-02-17').fillna(0)\n",
    "\n",
    "df_relevant = df[['iso_code',\n",
    "                  'continent',\n",
    "                  'location',\n",
    "                  'date',\n",
    "                  'total_cases',\n",
    "                  'total_vaccinations',\n",
    "                  'people_vaccinated',\n",
    "                  'people_fully_vaccinated',\n",
    "                  'new_vaccinations',\n",
    "                  'population']]\n",
    "\n",
    "df_relevant = df_relevant[df_relevant['total_vaccinations'] != 0]\n",
    "\n",
    "\n",
    "countries = df_relevant['iso_code'].unique()\n",
    "recent_day = []\n",
    "\n",
    "for country in countries:\n",
    "    new_country = df_relevant[df_relevant['iso_code'] == country]\n",
    "    max_day = new_country[new_country['date'] == new_country['date'].max()]\n",
    "    recent_day.append(max_day['total_vaccinations'])\n",
    "\n",
    "print(len(recent_day))\n",
    "\n",
    "\n",
    "\n",
    "\n",
    "\n",
    "\n"
   ]
  },
  {
   "cell_type": "code",
   "execution_count": null,
   "metadata": {},
   "outputs": [],
   "source": []
  }
 ]
}